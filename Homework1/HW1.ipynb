{
 "cells": [
  {
   "cell_type": "markdown",
   "metadata": {},
   "source": [
    "# Homework I"
   ]
  },
  {
   "cell_type": "code",
   "execution_count": 2054,
   "metadata": {},
   "outputs": [],
   "source": [
    "import networkx as nx\n",
    "import numpy as np\n",
    "import pandas as pd\n",
    "import itertools as it\n",
    "import scipy\n",
    "import random \n",
    "import altair as alt\n",
    "import altair_saver\n",
    "import matplotlib.pyplot as plt\n",
    "import seaborn as sns\n",
    "import cvxpy as cp"
   ]
  },
  {
   "cell_type": "markdown",
   "metadata": {},
   "source": [
    "## Exercise 1"
   ]
  },
  {
   "cell_type": "markdown",
   "metadata": {},
   "source": [
    "### Network Construction"
   ]
  },
  {
   "cell_type": "code",
   "execution_count": 2055,
   "metadata": {},
   "outputs": [],
   "source": [
    "# Generate the Directed Graph\n",
    "G = nx.DiGraph()\n",
    "\n",
    "# Add edges with their ow weights\n",
    "edges = [('o','b',{'capacity':2}),('o','a',{'capacity':2}),('a','d',{'capacity':1}),('b','d',{'capacity':1}),('b','c',{'capacity':2}),('c','d',{'capacity':1})]\n",
    "G.add_edges_from(edges)\n",
    "\n",
    "pos = {'o': [0,2], 'a': [2,4], 'b': [2,2], 'c': [2,0], 'd': [4,2] }"
   ]
  },
  {
   "cell_type": "code",
   "execution_count": 2056,
   "metadata": {},
   "outputs": [
    {
     "data": {
      "text/plain": [
       "{('o', 'b'): 2,\n",
       " ('o', 'a'): 2,\n",
       " ('b', 'd'): 1,\n",
       " ('b', 'c'): 2,\n",
       " ('a', 'd'): 1,\n",
       " ('c', 'd'): 1}"
      ]
     },
     "execution_count": 2056,
     "metadata": {},
     "output_type": "execute_result"
    }
   ],
   "source": [
    "nx.get_edge_attributes(G,'capacity')"
   ]
  },
  {
   "cell_type": "markdown",
   "metadata": {},
   "source": [
    "### Graphic Representation"
   ]
  },
  {
   "cell_type": "code",
   "execution_count": 2057,
   "metadata": {},
   "outputs": [
    {
     "data": {
      "image/png": "[encoded data removed]",
      "text/plain": [
       "<Figure size 432x288 with 1 Axes>"
      ]
     },
     "metadata": {},
     "output_type": "display_data"
    }
   ],
   "source": [
    "pos = {'o': [0,2], 'a': [2,4], 'b': [2,2], 'c': [2,0], 'd': [4,2] }\n",
    "nx.draw_networkx_edge_labels(G,pos,nx.get_edge_attributes(G,'capacity'),font_color='red')\n",
    "nx.draw(G,pos,with_labels=True,node_color='red')\n",
    "plt.savefig('Ex1.svg',dpi=180)"
   ]
  },
  {
   "cell_type": "markdown",
   "metadata": {},
   "source": [
    "### Questions"
   ]
  },
  {
   "cell_type": "markdown",
   "metadata": {},
   "source": [
    "(a) What is the minimum aggregate capacity that needs to be removed for no feasible flow from\n",
    "*o* to *d* to exist?"
   ]
  },
  {
   "cell_type": "markdown",
   "metadata": {},
   "source": [
    "The minumum aggregate capacity to remove in order to disconnect 2 nodes *i* and *j* is equals to the min-cut capacity for the **Network resilience interpretation** of **Max-flow Min-cut theorem**"
   ]
  },
  {
   "cell_type": "code",
   "execution_count": 2058,
   "metadata": {},
   "outputs": [
    {
     "name": "stdout",
     "output_type": "stream",
     "text": [
      "Min-cut Capacity: 3\n"
     ]
    }
   ],
   "source": [
    "print('Min-cut Capacity:',nx.minimum_cut_value(G,'o','d'))"
   ]
  },
  {
   "cell_type": "markdown",
   "metadata": {},
   "source": [
    "Selecting any min-cut between *o* and *d*:"
   ]
  },
  {
   "cell_type": "code",
   "execution_count": 2059,
   "metadata": {},
   "outputs": [
    {
     "data": {
      "text/plain": [
       "({'a', 'b', 'c', 'o'}, {'d'})"
      ]
     },
     "execution_count": 2059,
     "metadata": {},
     "output_type": "execute_result"
    }
   ],
   "source": [
    "min_cut = nx.minimum_cut(G,'o','d')[1]\n",
    "min_cut"
   ]
  },
  {
   "cell_type": "markdown",
   "metadata": {},
   "source": [
    "Removing capacity to edges passing though the selected min-cut we'll get *o* and *d* disconnected."
   ]
  },
  {
   "cell_type": "code",
   "execution_count": 2060,
   "metadata": {},
   "outputs": [],
   "source": [
    "GG = nx.DiGraph(G)\n",
    "\n",
    "removed_capacity = 0\n",
    "to_remove = []\n",
    "\n",
    "for e in GG.edges:\n",
    "    if e[0] in min_cut[0] and e[1] in min_cut[1]:\n",
    "        removed_capacity += GG[e[0]][e[1]]['capacity']\n",
    "        to_remove.append(e)\n",
    "\n",
    "for e in to_remove:\n",
    "    GG.remove_edge(*e)"
   ]
  },
  {
   "cell_type": "code",
   "execution_count": 2061,
   "metadata": {},
   "outputs": [
    {
     "name": "stdout",
     "output_type": "stream",
     "text": [
      "Aggregate capacity removed: 3\n"
     ]
    },
    {
     "data": {
      "image/png": "[encoded data removed]",
      "text/plain": [
       "<Figure size 432x288 with 1 Axes>"
      ]
     },
     "metadata": {},
     "output_type": "display_data"
    }
   ],
   "source": [
    "nx.draw(GG,pos,with_labels=True,node_color='red')\n",
    "plt.savefig('Ex1_a.svg',dpi=180)\n",
    "print('Aggregate capacity removed:',removed_capacity)"
   ]
  },
  {
   "cell_type": "markdown",
   "metadata": {},
   "source": [
    "### (b) What is the maximum aggregate capacity that can be removed from the links without affecting the maximum throughput from *o* to *d*?"
   ]
  },
  {
   "cell_type": "markdown",
   "metadata": {},
   "source": [
    "Capacity can be removed without affecting throughput only by edges not passing through any min cut."
   ]
  },
  {
   "cell_type": "markdown",
   "metadata": {},
   "source": [
    "- $U=\\{o,a,b,c\\},U^C=\\{d\\} \\rightarrow C_U = 3$\n",
    "- $U=\\{o,a,b\\},U^C=\\{c,d\\} \\rightarrow C_U = 4$\n",
    "- $U=\\{o,b,c\\},U^C=\\{a,d\\} \\rightarrow C_U = 4$\n",
    "- $U=\\{o,a\\},U^C=\\{b,c,d\\} \\rightarrow C_U = 3$\n",
    "- $U=\\{o,c\\},U^C=\\{a,b,d\\} \\rightarrow C_U = 5$\n",
    "- $U=\\{o\\},U^C=\\{a,b,c,d\\} \\rightarrow C_U = 4$\n",
    "\n",
    "The min-cuts are $U=\\{o,a,b,c\\},U^C=\\{d\\}$ and $U=\\{o,a\\},U^C=\\{b,c,d\\}$.\n",
    "The only edges not passing through any min-cut are $(o,a)$ and $(b,c)$"
   ]
  },
  {
   "cell_type": "code",
   "execution_count": 2062,
   "metadata": {},
   "outputs": [],
   "source": [
    "GG = nx.DiGraph(G)\n",
    "\n",
    "GG['o']['a']['capacity'] -= 1\n",
    "GG['b']['c']['capacity'] -= 1"
   ]
  },
  {
   "cell_type": "markdown",
   "metadata": {},
   "source": [
    "Decreasing by 1 each of these 2 nodes capacity we obtain:\n",
    "\n",
    "- $U=\\{o,a,b,c\\},U^C=\\{d\\} \\rightarrow C_U = 3$\n",
    "- $U=\\{o,a,b\\},U^C=\\{c,d\\} \\rightarrow C_U = 3$\n",
    "- $U=\\{o,b,c\\},U^C=\\{a,d\\} \\rightarrow C_U = 3$\n",
    "- $U=\\{o,a\\},U^C=\\{b,c,d\\} \\rightarrow C_U = 3$\n",
    "- $U=\\{o,c\\},U^C=\\{a,b,d\\} \\rightarrow C_U = 4$\n",
    "- $U=\\{o\\},U^C=\\{a,b,c,d\\} \\rightarrow C_U = 3$"
   ]
  },
  {
   "cell_type": "code",
   "execution_count": 2063,
   "metadata": {},
   "outputs": [
    {
     "name": "stdout",
     "output_type": "stream",
     "text": [
      "Max flow: 3\n"
     ]
    }
   ],
   "source": [
    "print('Max flow:',nx.maximum_flow_value(GG,'o','d'))"
   ]
  },
  {
   "cell_type": "markdown",
   "metadata": {},
   "source": [
    "Maximum throughput has not been affected."
   ]
  },
  {
   "cell_type": "code",
   "execution_count": 2064,
   "metadata": {},
   "outputs": [
    {
     "name": "stdout",
     "output_type": "stream",
     "text": [
      "All edges affect Througput\n"
     ]
    }
   ],
   "source": [
    "unaffected_throughput = 0\n",
    "for e in G.edges:\n",
    "    GGG = nx.DiGraph(GG)\n",
    "    GGG[e[0]][e[1]]['capacity'] -= 1\n",
    "    if(nx.maximum_flow_value(GGG,'o','d') == nx.maximum_flow_value(G,'o','d')):\n",
    "        unaffected_throughput += 1\n",
    "        print(e)\n",
    "\n",
    "if unaffected_throughput == 0:\n",
    "    print('All edges affect Througput')\n"
   ]
  },
  {
   "cell_type": "markdown",
   "metadata": {},
   "source": [
    "Removing any other edge throughput will be affected."
   ]
  },
  {
   "cell_type": "markdown",
   "metadata": {},
   "source": [
    "(c) You are given x > 0 extra units of capacity. How should you distribute them in order to\n",
    "maximize the throughput that can be sent from o to d? Plot the maximum throughput from\n",
    "o to d as a function of x ≥ 0."
   ]
  },
  {
   "cell_type": "markdown",
   "metadata": {},
   "source": [
    "To check how adding *x* extra unit of capacity affects maximal throughput capacity should be added in order to balance capacity in-degree and out-degree for each node (obviously except *o* and *d*).\n",
    "If this is balanced for all nodes in the graph a random edge belonging to any shortest path (in terms of number of edges) is incremented."
   ]
  },
  {
   "cell_type": "code",
   "execution_count": 2065,
   "metadata": {},
   "outputs": [
    {
     "name": "stdout",
     "output_type": "stream",
     "text": [
      "x = 0, Throughput: 3\n",
      "Capacities: {('o', 'b'): 2, ('o', 'a'): 2, ('b', 'd'): 1, ('b', 'c'): 2, ('a', 'd'): 1, ('c', 'd'): 1}\n",
      "x = 5, Throughput: 6\n",
      "Capacities: {('o', 'b'): 4, ('o', 'a'): 2, ('b', 'd'): 2, ('b', 'c'): 2, ('a', 'd'): 2, ('c', 'd'): 2}\n"
     ]
    }
   ],
   "source": [
    "df_dict = {'x':[],'thr_max':[]}\n",
    "added_cap = 10\n",
    "for x in range(added_cap):\n",
    "    GG = nx.DiGraph(G)\n",
    "    for i in range(x):\n",
    "        thr = nx.maximum_flow_value(GG,'o','d')\n",
    "        increased = False\n",
    "        for n in GG.nodes:\n",
    "            first_good = None\n",
    "            in_d = GG.in_degree(n,'capacity')\n",
    "            out_d = GG.out_degree(n,'capacity')\n",
    "            if in_d < out_d:\n",
    "                for e in GG.edges:\n",
    "                    if e[1] == n:\n",
    "                        if first_good == None:\n",
    "                            first_good = e\n",
    "                        GG[e[0]][e[1]]['capacity'] += 1\n",
    "                        if nx.maximum_flow_value(GG,'o','d') > thr:\n",
    "                            increased = True\n",
    "                            break\n",
    "                        GG[e[0]][e[1]]['capacity'] -= 1\n",
    "            if increased:\n",
    "                break\n",
    "            elif in_d > out_d:\n",
    "                for e in GG.edges:\n",
    "                    if e[0] == n:\n",
    "                        if first_good == None:\n",
    "                            first_good = e\n",
    "                        GG[e[0]][e[1]]['capacity'] += 1\n",
    "                        if nx.maximum_flow_value(GG,'o','d') > thr:\n",
    "                            increased = True\n",
    "                            break\n",
    "                        GG[e[0]][e[1]]['capacity'] -= 1\n",
    "            if increased:\n",
    "                break\n",
    "        if not increased:\n",
    "            if first_good == None:\n",
    "                sh_paths = set(list(nx.all_shortest_paths(GG,'o','d'))[0]+list(nx.all_shortest_paths(GG,'o','d'))[1])\n",
    "                random_edge = random.choice([e for e in GG.edges if e[0] in sh_paths and e[1] in sh_paths])\n",
    "                #random_edge = random.choice()\n",
    "                GG[random_edge[0]][random_edge[1]]['capacity'] += 1\n",
    "            else:\n",
    "                GG[first_good[0]][first_good[1]]['capacity'] += 1\n",
    "                \n",
    "    thr_max = nx.maximum_flow_value(GG,'o','d')\n",
    "    if x%5 == 0:\n",
    "        print(f\"x = {x}, Throughput: {thr_max}\")\n",
    "        print(\"Capacities:\",nx.get_edge_attributes(GG,'capacity'))\n",
    "    df_dict['x'].append(x)\n",
    "    df_dict['thr_max'].append(thr_max)"
   ]
  },
  {
   "cell_type": "code",
   "execution_count": 2066,
   "metadata": {},
   "outputs": [],
   "source": [
    "df = pd.DataFrame(data=df_dict,columns=['x','thr_max'])"
   ]
  },
  {
   "cell_type": "code",
   "execution_count": 2067,
   "metadata": {},
   "outputs": [
    {
     "data": {
      "text/html": [
       "<div>\n",
       "<style scoped>\n",
       "    .dataframe tbody tr th:only-of-type {\n",
       "        vertical-align: middle;\n",
       "    }\n",
       "\n",
       "    .dataframe tbody tr th {\n",
       "        vertical-align: top;\n",
       "    }\n",
       "\n",
       "    .dataframe thead th {\n",
       "        text-align: right;\n",
       "    }\n",
       "</style>\n",
       "<table border=\"1\" class=\"dataframe\">\n",
       "  <thead>\n",
       "    <tr style=\"text-align: right;\">\n",
       "      <th></th>\n",
       "      <th>x</th>\n",
       "      <th>thr_max</th>\n",
       "    </tr>\n",
       "  </thead>\n",
       "  <tbody>\n",
       "    <tr>\n",
       "      <th>0</th>\n",
       "      <td>0</td>\n",
       "      <td>3</td>\n",
       "    </tr>\n",
       "    <tr>\n",
       "      <th>1</th>\n",
       "      <td>1</td>\n",
       "      <td>4</td>\n",
       "    </tr>\n",
       "    <tr>\n",
       "      <th>2</th>\n",
       "      <td>2</td>\n",
       "      <td>4</td>\n",
       "    </tr>\n",
       "    <tr>\n",
       "      <th>3</th>\n",
       "      <td>3</td>\n",
       "      <td>5</td>\n",
       "    </tr>\n",
       "    <tr>\n",
       "      <th>4</th>\n",
       "      <td>4</td>\n",
       "      <td>5</td>\n",
       "    </tr>\n",
       "    <tr>\n",
       "      <th>5</th>\n",
       "      <td>5</td>\n",
       "      <td>6</td>\n",
       "    </tr>\n",
       "    <tr>\n",
       "      <th>6</th>\n",
       "      <td>6</td>\n",
       "      <td>6</td>\n",
       "    </tr>\n",
       "    <tr>\n",
       "      <th>7</th>\n",
       "      <td>7</td>\n",
       "      <td>7</td>\n",
       "    </tr>\n",
       "    <tr>\n",
       "      <th>8</th>\n",
       "      <td>8</td>\n",
       "      <td>7</td>\n",
       "    </tr>\n",
       "    <tr>\n",
       "      <th>9</th>\n",
       "      <td>9</td>\n",
       "      <td>8</td>\n",
       "    </tr>\n",
       "  </tbody>\n",
       "</table>\n",
       "</div>"
      ],
      "text/plain": [
       "   x  thr_max\n",
       "0  0        3\n",
       "1  1        4\n",
       "2  2        4\n",
       "3  3        5\n",
       "4  4        5\n",
       "5  5        6\n",
       "6  6        6\n",
       "7  7        7\n",
       "8  8        7\n",
       "9  9        8"
      ]
     },
     "execution_count": 2067,
     "metadata": {},
     "output_type": "execute_result"
    }
   ],
   "source": [
    "df"
   ]
  },
  {
   "cell_type": "code",
   "execution_count": 2068,
   "metadata": {},
   "outputs": [
    {
     "data": {
      "image/png": "[encoded data removed]",
      "text/plain": [
       "<Figure size 432x288 with 1 Axes>"
      ]
     },
     "metadata": {
      "needs_background": "light"
     },
     "output_type": "display_data"
    }
   ],
   "source": [
    "fig, ax = plt.subplots()\n",
    "\n",
    "p = sns.lineplot(ax=ax, data=df,x='x',y='thr_max',color='red')\n",
    "\n",
    "p.grid()\n",
    "plt.show()\n",
    "\n",
    "fig.savefig('Ex1_c.svg',dpi=180)\n",
    "#plt.savefig('Ex1_c.svg',dpi=180)"
   ]
  },
  {
   "cell_type": "markdown",
   "metadata": {},
   "source": [
    "In the chart can be seen that the trend is periodic: every 2 units of caoacity added the maximal throughput increases by 1."
   ]
  },
  {
   "cell_type": "markdown",
   "metadata": {},
   "source": [
    "## Exercise 2"
   ]
  },
  {
   "cell_type": "markdown",
   "metadata": {},
   "source": [
    "### Network Costruction"
   ]
  },
  {
   "cell_type": "code",
   "execution_count": 2070,
   "metadata": {},
   "outputs": [],
   "source": [
    "edges = [('p1','b1'),('p1','b2'),('p2','b2'),('p2','b3'),('p3','b1'),('p3','b4'),('p4','b1'),('p4','b2'),('p4','b4')]\n",
    "\n",
    "G = nx.DiGraph()\n",
    "G.add_edges_from(edges)"
   ]
  },
  {
   "cell_type": "code",
   "execution_count": 2071,
   "metadata": {},
   "outputs": [
    {
     "data": {
      "image/png": "[encoded data removed]",
      "text/plain": [
       "<Figure size 432x288 with 1 Axes>"
      ]
     },
     "metadata": {},
     "output_type": "display_data"
    }
   ],
   "source": [
    "pos = {'p1': [0,6], 'p2': [0,4], 'p3': [0,2], 'p4': [0,0], 'b1': [2,6] , 'b2': [2,4], 'b3':[2,2], 'b4':[2,0]}\n",
    "\n",
    "nx.draw(G,pos,with_labels=True,node_color='red')\n",
    "\n",
    "plt.savefig('Ex2.svg', dpi=180)"
   ]
  },
  {
   "cell_type": "markdown",
   "metadata": {},
   "source": [
    "### (a) Exploit max-flow problems to find a perfect matching (if any)."
   ]
  },
  {
   "cell_type": "code",
   "execution_count": 2072,
   "metadata": {},
   "outputs": [],
   "source": [
    "G2 = nx.DiGraph(G)\n",
    "\n",
    "# Add origin and destination node\n",
    "for n in range(1,5):\n",
    "    G2.add_edge('o','p'+str(n))\n",
    "    G2.add_edge('b'+str(n),'d')"
   ]
  },
  {
   "cell_type": "code",
   "execution_count": 2073,
   "metadata": {},
   "outputs": [],
   "source": [
    "pos['o'] = [-1,3]\n",
    "pos['d'] = [3,3]"
   ]
  },
  {
   "cell_type": "code",
   "execution_count": 2074,
   "metadata": {},
   "outputs": [
    {
     "data": {
      "image/png": "[encoded data removed]",
      "text/plain": [
       "<Figure size 432x288 with 1 Axes>"
      ]
     },
     "metadata": {},
     "output_type": "display_data"
    }
   ],
   "source": [
    "nx.draw_networkx_edge_labels(G2,pos,nx.get_edge_attributes(G2,'capacity'),font_color='red')\n",
    "nx.draw(G2,pos,with_labels=True,node_color='red')\n",
    "\n",
    "plt.savefig('Ex2_a.svg',dpi=180)"
   ]
  },
  {
   "cell_type": "code",
   "execution_count": 2075,
   "metadata": {},
   "outputs": [],
   "source": [
    "# Add capacity one for all edges\n",
    "for e in G2.edges:\n",
    "    G2[e[0]][e[1]]['capacity'] = 1"
   ]
  },
  {
   "cell_type": "code",
   "execution_count": 2076,
   "metadata": {},
   "outputs": [],
   "source": [
    "# Compute the maximum flow\n",
    "mf = nx.maximum_flow(G2,'o','d')"
   ]
  },
  {
   "cell_type": "code",
   "execution_count": 2077,
   "metadata": {},
   "outputs": [
    {
     "data": {
      "text/plain": [
       "{'p1': {'b1': 0, 'b2': 1},\n",
       " 'b1': {'d': 1},\n",
       " 'b2': {'d': 1},\n",
       " 'p2': {'b2': 0, 'b3': 1},\n",
       " 'b3': {'d': 1},\n",
       " 'p3': {'b1': 1, 'b4': 0},\n",
       " 'b4': {'d': 1},\n",
       " 'p4': {'b1': 0, 'b2': 0, 'b4': 1},\n",
       " 'o': {'p1': 1, 'p2': 1, 'p3': 1, 'p4': 1},\n",
       " 'd': {}}"
      ]
     },
     "execution_count": 2077,
     "metadata": {},
     "output_type": "execute_result"
    }
   ],
   "source": [
    "mf[1]"
   ]
  },
  {
   "cell_type": "markdown",
   "metadata": {},
   "source": [
    "Beeing the maximum flow equal to the number of books and people, we can deduce that at least one perfect matching exists."
   ]
  },
  {
   "cell_type": "code",
   "execution_count": 2078,
   "metadata": {},
   "outputs": [],
   "source": [
    "perfect_dict = {}\n",
    "\n",
    "# Obtain the perfect matching from the maziimum flow dictionary\n",
    "for k, v in mf[1].items():\n",
    "    if k[0] == 'p' and k != 'o' and k != 'd':\n",
    "        for kk, vv in v.items():\n",
    "            if vv == 1:\n",
    "                perfect_dict[k] = kk"
   ]
  },
  {
   "cell_type": "code",
   "execution_count": 2079,
   "metadata": {},
   "outputs": [
    {
     "data": {
      "text/plain": [
       "{'p1': 'b2', 'p2': 'b3', 'p3': 'b1', 'p4': 'b4'}"
      ]
     },
     "execution_count": 2079,
     "metadata": {},
     "output_type": "execute_result"
    }
   ],
   "source": [
    "perfect_dict"
   ]
  },
  {
   "cell_type": "code",
   "execution_count": 2080,
   "metadata": {},
   "outputs": [
    {
     "data": {
      "text/plain": [
       "True"
      ]
     },
     "execution_count": 2080,
     "metadata": {},
     "output_type": "execute_result"
    }
   ],
   "source": [
    "# Confirm that the found matching is a perfect one\n",
    "nx.is_perfect_matching(G, perfect_dict)"
   ]
  },
  {
   "cell_type": "markdown",
   "metadata": {},
   "source": [
    "### (b) Assume now that there are multiple copies books, and the distribution of the number of copies is (2, 3, 2, 2). Each person can take an arbitrary number of different books. Exploit the analogy with max-flow problems to establish how many books of interest can be assigned in total."
   ]
  },
  {
   "cell_type": "markdown",
   "metadata": {},
   "source": [
    "All edges between people and books have capacity one because each person can take one copy of each book of interest."
   ]
  },
  {
   "cell_type": "code",
   "execution_count": 2081,
   "metadata": {},
   "outputs": [],
   "source": [
    "for e in G.edges:\n",
    "    if e[1] in ['b1','b2','b3','b4']:\n",
    "        G[e[0]][e[1]]['capacity'] = 1"
   ]
  },
  {
   "cell_type": "markdown",
   "metadata": {},
   "source": [
    "Edges between books and destination have capacity according to the number of copies available in the library."
   ]
  },
  {
   "cell_type": "code",
   "execution_count": 2082,
   "metadata": {},
   "outputs": [],
   "source": [
    "for n in range(1,5):\n",
    "    G.add_edge('o','p'+str(n))\n",
    "    G.add_edge('b'+str(n),'d')\n",
    "\n",
    "for e in G.edges:\n",
    "    if e[1] == 'd':\n",
    "        if e[0] in ['b1','b3','b4']:\n",
    "            G[e[0]][e[1]]['capacity'] = 2\n",
    "        elif e[0] == 'b2':\n",
    "            G[e[0]][e[1]]['capacity'] = 3"
   ]
  },
  {
   "cell_type": "code",
   "execution_count": 2083,
   "metadata": {},
   "outputs": [
    {
     "data": {
      "image/png": "[encoded data removed]",
      "text/plain": [
       "<Figure size 432x288 with 1 Axes>"
      ]
     },
     "metadata": {},
     "output_type": "display_data"
    }
   ],
   "source": [
    "pos['o'] = [-1,3]\n",
    "pos['d'] = [3,3]\n",
    "\n",
    "nx.draw_networkx_edge_labels(G,pos,nx.get_edge_attributes(G,'capacity'),font_color='red')\n",
    "nx.draw(G,pos,with_labels=True,node_color='red')\n",
    "\n",
    "plt.savefig('Ex2_b.svg',dpi=180)"
   ]
  },
  {
   "cell_type": "markdown",
   "metadata": {},
   "source": [
    "To compute the number of books of interest that can be assigned, the maximum flow between *o* and *d* can be exploited."
   ]
  },
  {
   "cell_type": "code",
   "execution_count": 2084,
   "metadata": {},
   "outputs": [
    {
     "data": {
      "text/plain": [
       "8"
      ]
     },
     "execution_count": 2084,
     "metadata": {},
     "output_type": "execute_result"
    }
   ],
   "source": [
    "nx.maximum_flow_value(G,'o','d')"
   ]
  },
  {
   "cell_type": "markdown",
   "metadata": {},
   "source": [
    "8 books of interest can be assigned."
   ]
  },
  {
   "cell_type": "markdown",
   "metadata": {},
   "source": [
    "### (c) Suppose that the library can sell a copy of a book and buy a copy of another book. Which books should be sold and bought to maximize the number of assigned books?"
   ]
  },
  {
   "cell_type": "markdown",
   "metadata": {},
   "source": [
    "Try every couple of book-destinatination edges, increasing one and decreasing the other capacity, and select the one that maximize the maximum flow."
   ]
  },
  {
   "cell_type": "code",
   "execution_count": 2085,
   "metadata": {},
   "outputs": [],
   "source": [
    "books = ['b1','b2','b3','b4']\n",
    "\n",
    "best_G = None\n",
    "best_flow = nx.maximum_flow_value(G,'o','d')\n",
    "bought = None\n",
    "sold = None\n",
    "\n",
    "for b in books:\n",
    "    for bb in books:\n",
    "        if b != bb:\n",
    "            GG = nx.DiGraph(G)\n",
    "            for e in GG.edges:\n",
    "                if e[0] == b:\n",
    "                    #inc_e = e\n",
    "                    GG[e[0]][e[1]]['capacity'] += 1\n",
    "                if e[0] == bb:\n",
    "                    #dec_e = e\n",
    "                    GG[e[0]][e[1]]['capacity'] -= 1\n",
    "            if nx.maximum_flow_value(GG,'o','d') > best_flow:\n",
    "                best_G = GG\n",
    "                best_flow = nx.maximum_flow_value(GG,'o','d')\n",
    "                bought = b\n",
    "                sold = bb"
   ]
  },
  {
   "cell_type": "code",
   "execution_count": 2086,
   "metadata": {},
   "outputs": [
    {
     "data": {
      "text/plain": [
       "9"
      ]
     },
     "execution_count": 2086,
     "metadata": {},
     "output_type": "execute_result"
    }
   ],
   "source": [
    "best_flow"
   ]
  },
  {
   "cell_type": "code",
   "execution_count": 2087,
   "metadata": {},
   "outputs": [
    {
     "data": {
      "text/plain": [
       "('b1', 'b3')"
      ]
     },
     "execution_count": 2087,
     "metadata": {},
     "output_type": "execute_result"
    }
   ],
   "source": [
    "bought,sold"
   ]
  },
  {
   "cell_type": "markdown",
   "metadata": {},
   "source": [
    "9 books of interest can be assigned selling copy of *b3* and buying a cpy of *b4*"
   ]
  },
  {
   "cell_type": "markdown",
   "metadata": {},
   "source": [
    "## Exercise 3"
   ]
  },
  {
   "cell_type": "markdown",
   "metadata": {},
   "source": [
    "### Construct network"
   ]
  },
  {
   "cell_type": "code",
   "execution_count": 2088,
   "metadata": {},
   "outputs": [],
   "source": [
    "G = nx.DiGraph()"
   ]
  },
  {
   "cell_type": "code",
   "execution_count": 2089,
   "metadata": {},
   "outputs": [],
   "source": [
    "pos = {1:[0,4],2:[1,4],3:[2,4],4:[3,4],5:[4,4],6:[0,3],7:[1,3],8:[2,3],9:[3,3],10:[1,2],11:[2,2],12:[3,2],13:[3.5,2],14:[4,2],15:[2,1],16:[3,1],17:[4,1]}"
   ]
  },
  {
   "cell_type": "code",
   "execution_count": 2090,
   "metadata": {},
   "outputs": [],
   "source": [
    "# Load network data\n",
    "f = scipy.io.loadmat('flow.mat')[\"flow\"].reshape(28,)\n",
    "C = scipy.io.loadmat('capacities.mat')[\"capacities\"].reshape(28,)\n",
    "B = scipy.io.loadmat('traffic.mat')[\"traffic\"]\n",
    "l = scipy.io.loadmat('traveltime.mat')[\"traveltime\"].reshape(28,)"
   ]
  },
  {
   "cell_type": "code",
   "execution_count": 2091,
   "metadata": {},
   "outputs": [],
   "source": [
    "# Add nodes and edges\n",
    "for e in range(B.shape[1]):\n",
    "    for i,n in enumerate(B[:,e]):\n",
    "        if n == -1:\n",
    "            for ii,ee in enumerate(B[:,e]):\n",
    "                if ee == 1:\n",
    "                    G.add_edge(ii+1,i+1)\n",
    "        if n == 1:\n",
    "            for ii,ee in enumerate(B[:,e]):\n",
    "                if ee == -1:\n",
    "                    G.add_edge(i+1,ii+1)\n"
   ]
  },
  {
   "cell_type": "code",
   "execution_count": 2092,
   "metadata": {},
   "outputs": [],
   "source": [
    "# Sort edges according to the order of the picture\n",
    "sorted_edges = [(1,2),(2,3),(3,4),(4,5),(1,6),(6,7),(7,8),(8,9),(9,13),(2,7),(3,8),(3,9),(4,9),(5,14),(6,10),(10,11),(10,15),(7,10),(8,11),(9,12),(11,12),(12,13),(13,14),(11,15),(13,17),(14,17),(15,16),(16,17)]"
   ]
  },
  {
   "cell_type": "code",
   "execution_count": 2093,
   "metadata": {},
   "outputs": [],
   "source": [
    "# Add capacities\n",
    "for i, e in enumerate(sorted_edges):\n",
    "    G[e[0]][e[1]]['capacity'] = C[i]"
   ]
  },
  {
   "cell_type": "code",
   "execution_count": 2094,
   "metadata": {},
   "outputs": [
    {
     "data": {
      "image/png": "[encoded data removed]",
      "text/plain": [
       "<Figure size 432x288 with 1 Axes>"
      ]
     },
     "metadata": {},
     "output_type": "display_data"
    }
   ],
   "source": [
    "nx.draw(G,pos,with_labels=True,node_color='red')\n",
    "\n",
    "plt.savefig('Ex3.svg',dpi=180)"
   ]
  },
  {
   "cell_type": "code",
   "execution_count": 2095,
   "metadata": {},
   "outputs": [],
   "source": [
    "# Add Travel Time\n",
    "for i, e in enumerate(sorted_edges):\n",
    "    G[e[0]][e[1]]['cost'] = l[i]"
   ]
  },
  {
   "cell_type": "markdown",
   "metadata": {},
   "source": [
    "### (a) Find the shortest path between node 1 and 17. This is equivalent to the fastest path (path with shortest traveling time) in an empty network."
   ]
  },
  {
   "cell_type": "markdown",
   "metadata": {},
   "source": [
    "In order to find the fastest path between node *1* and node *17* it should be computed the shortest path in terms of Travel Time."
   ]
  },
  {
   "cell_type": "code",
   "execution_count": 2096,
   "metadata": {},
   "outputs": [],
   "source": [
    "fastest_path = nx.shortest_path(G,1,17,weight='cost')"
   ]
  },
  {
   "cell_type": "code",
   "execution_count": 2097,
   "metadata": {},
   "outputs": [
    {
     "data": {
      "text/plain": [
       "[[1, 2, 3, 9, 13, 17]]"
      ]
     },
     "execution_count": 2097,
     "metadata": {},
     "output_type": "execute_result"
    }
   ],
   "source": [
    "list(nx.all_shortest_paths(G,1,17,'cost'))"
   ]
  },
  {
   "cell_type": "code",
   "execution_count": 2098,
   "metadata": {},
   "outputs": [],
   "source": [
    "jas_path = [1,6,10,15,16,17]"
   ]
  },
  {
   "cell_type": "code",
   "execution_count": 2099,
   "metadata": {},
   "outputs": [],
   "source": [
    "color = []\n",
    "travel_time = 0\n",
    "for e in G.edges:\n",
    "    if e[0] in fastest_path and e[1] in fastest_path:\n",
    "        color.append('red')\n",
    "        travel_time += G[e[0]][e[1]]['cost']\n",
    "    else:\n",
    "        color.append('black')"
   ]
  },
  {
   "cell_type": "code",
   "execution_count": 2100,
   "metadata": {},
   "outputs": [
    {
     "name": "stdout",
     "output_type": "stream",
     "text": [
      "Shortest Travel Time: 0.532996\n"
     ]
    },
    {
     "data": {
      "image/png": "[encoded data removed]",
      "text/plain": [
       "<Figure size 432x288 with 1 Axes>"
      ]
     },
     "metadata": {},
     "output_type": "display_data"
    }
   ],
   "source": [
    "nx.draw(G,pos,with_labels=True,edge_color=color,node_color='red')\n",
    "plt.savefig('Ex3_a.svg',dpi=180)\n",
    "print('Shortest Travel Time:',travel_time)\n"
   ]
  },
  {
   "cell_type": "markdown",
   "metadata": {},
   "source": [
    "The fastest path in an empty network is **[1,2,3,9,13,17]** with travel time of **0.532996**"
   ]
  },
  {
   "cell_type": "markdown",
   "metadata": {},
   "source": [
    "### (b) Find the maximum flow between node 1 and 17."
   ]
  },
  {
   "cell_type": "code",
   "execution_count": 2125,
   "metadata": {},
   "outputs": [
    {
     "data": {
      "text/plain": [
       "22448"
      ]
     },
     "execution_count": 2125,
     "metadata": {},
     "output_type": "execute_result"
    }
   ],
   "source": [
    "nx.maximum_flow_value(G,1,17,'capacity')"
   ]
  },
  {
   "cell_type": "markdown",
   "metadata": {},
   "source": [
    "Maximum flow between node *1* and node *17* is **22448**."
   ]
  },
  {
   "cell_type": "markdown",
   "metadata": {},
   "source": [
    "### (c) Given the flow vector in flow.mat, compute the external inflow ν satisfying Bf = $\\nu$."
   ]
  },
  {
   "cell_type": "markdown",
   "metadata": {},
   "source": [
    "The external inflow $\\nu$ satisfying the mass conservation constraint is given by matrix product betrween Node-Link Incidence Matrix *B* and the given Flow vector *f*."
   ]
  },
  {
   "cell_type": "code",
   "execution_count": 2102,
   "metadata": {},
   "outputs": [],
   "source": [
    "v = B @ f"
   ]
  },
  {
   "cell_type": "code",
   "execution_count": 2103,
   "metadata": {},
   "outputs": [
    {
     "name": "stdout",
     "output_type": "stream",
     "text": [
      "[16806, 8570, 19448, 4957, -746, 4768, 413, -2, -5671, 1169, -5, -7131, -380, -7412, -7810, -3430, -23544]\n"
     ]
    }
   ],
   "source": [
    "print(list(v))"
   ]
  },
  {
   "cell_type": "markdown",
   "metadata": {},
   "source": [
    "We assume that the exogenous inflow is zero in all the nodes except for node *1*, for which $\\nu_1$ has the same value computed in the point (c), and node *17*, for which $\\nu_{17} = −\\nu_1$."
   ]
  },
  {
   "cell_type": "code",
   "execution_count": 2104,
   "metadata": {},
   "outputs": [],
   "source": [
    "nu = np.zeros(v.shape)"
   ]
  },
  {
   "cell_type": "code",
   "execution_count": 2105,
   "metadata": {},
   "outputs": [],
   "source": [
    "nu[0] = v[0]\n",
    "nu[-1] = -v[0]"
   ]
  },
  {
   "cell_type": "markdown",
   "metadata": {},
   "source": [
    "### (d) Find the social optimum $f^*$ with respect to the delays on the different links $\\tau_e(f_e)$. For this,minimize the cost function $\\sum_{e\\in\\mathcal{E}}f_e\\tau_e(f_e) = \\sum_{e\\in\\mathcal{E}}\\frac{f_el_e}{1-\\frac{f_e}{c_e}} = \\sum_{e\\in\\mathcal{E}}(\\frac{l_ec_e}{1-\\frac{f_e}{c_e}}-l_ec_e)$ subject to the flow constraints."
   ]
  },
  {
   "cell_type": "code",
   "execution_count": 2106,
   "metadata": {},
   "outputs": [],
   "source": [
    "# compute total dealy both for standard and new delay function\n",
    "def compute_total_delay(f,func='standard'):\n",
    "    if func == 'standard':\n",
    "        return sum(l*C/(1-f/C)-l*C)\n",
    "    elif func == 'new':\n",
    "        return sum(l*C/(1-f/C)-l*C+f*C)"
   ]
  },
  {
   "cell_type": "markdown",
   "metadata": {},
   "source": [
    "Computation of the social optimum $f^*$."
   ]
  },
  {
   "cell_type": "code",
   "execution_count": 2107,
   "metadata": {},
   "outputs": [
    {
     "name": "stdout",
     "output_type": "stream",
     "text": [
      "Optimal f: [6.64219910e+03 6.05893789e+03 3.13232779e+03 3.13232589e+03\n",
      " 1.01638009e+04 4.63831664e+03 3.00634073e+03 2.54263460e+03\n",
      " 3.13154448e+03 5.83261212e+02 1.45164550e-02 2.92659559e+03\n",
      " 1.89781986e-03 3.13232589e+03 5.52548426e+03 2.85427264e+03\n",
      " 4.88644874e+03 2.21523712e+03 4.63720641e+02 2.33768761e+03\n",
      " 3.31799129e+03 5.65567890e+03 2.37310712e+03 1.99567283e-03\n",
      " 6.41411626e+03 5.50543301e+03 4.88645073e+03 4.88645073e+03]\n"
     ]
    }
   ],
   "source": [
    "f_var = cp.Variable(f.shape)\n",
    "\n",
    "objective = cp.Minimize(cp.sum(cp.multiply(l*C,cp.inv_pos(1-f_var/C))- l*C))\n",
    "constraints = [B @ f_var == nu, f_var >= 0, f_var <= C]\n",
    "\n",
    "prob = cp.Problem(objective,constraints)\n",
    "\n",
    "result = prob.solve()\n",
    "#print(result)\n",
    "\n",
    "f_star = f_var.value\n",
    "\n",
    "print('Optimal f:',f_star)"
   ]
  },
  {
   "cell_type": "code",
   "execution_count": 2108,
   "metadata": {},
   "outputs": [],
   "source": [
    "total_delay_f_star = compute_total_delay(f_star)"
   ]
  },
  {
   "cell_type": "code",
   "execution_count": 2109,
   "metadata": {},
   "outputs": [
    {
     "data": {
      "text/plain": [
       "25943.62261121288"
      ]
     },
     "execution_count": 2109,
     "metadata": {},
     "output_type": "execute_result"
    }
   ],
   "source": [
    "total_delay_f_star"
   ]
  },
  {
   "cell_type": "markdown",
   "metadata": {},
   "source": [
    "### (e1) Find the Wardrop equilibrium $f^{(0)}$ . For this, use the cost function $\\sum_{e\\in\\mathcal{E}}\\int_{0}^{f_e}\\tau_e(s)\\,ds$."
   ]
  },
  {
   "cell_type": "markdown",
   "metadata": {},
   "source": [
    "Computation of the Wardrop Equilibrium $f^{(0)}$."
   ]
  },
  {
   "cell_type": "code",
   "execution_count": 2110,
   "metadata": {},
   "outputs": [
    {
     "name": "stdout",
     "output_type": "stream",
     "text": [
      "Optimal f: [6.71564895e+03 6.71564803e+03 2.36740801e+03 2.36740792e+03\n",
      " 1.00903510e+04 4.64539489e+03 2.80384316e+03 2.28356194e+03\n",
      " 3.41848003e+03 9.22328268e-04 1.76829408e+02 4.17141061e+03\n",
      " 8.92024178e-05 2.36740792e+03 5.44495611e+03 2.35317044e+03\n",
      " 4.93333832e+03 1.84155266e+03 6.97110629e+02 3.03649261e+03\n",
      " 3.05028094e+03 6.08677356e+03 2.58651143e+03 1.24029072e-04\n",
      " 6.91874216e+03 4.95391934e+03 4.93333845e+03 4.93333845e+03]\n"
     ]
    }
   ],
   "source": [
    "f_var = cp.Variable(f.shape)\n",
    "\n",
    "objective = cp.Minimize(cp.sum(cp.multiply(-l*C,cp.log(1-cp.multiply(f_var,cp.inv_pos(C))))))\n",
    "\n",
    "constraints = [B @ f_var == nu, f_var >= 0,f_var <= C]\n",
    "prob = cp.Problem(objective,constraints)\n",
    "\n",
    "result = prob.solve()\n",
    "#print(result)\n",
    "\n",
    "f_w = f_var.value\n",
    "\n",
    "print('Optimal f:',f_w)"
   ]
  },
  {
   "cell_type": "code",
   "execution_count": 2111,
   "metadata": {},
   "outputs": [],
   "source": [
    "total_delay_f_w = compute_total_delay(f_w)"
   ]
  },
  {
   "cell_type": "code",
   "execution_count": 2112,
   "metadata": {},
   "outputs": [
    {
     "data": {
      "text/plain": [
       "26292.963874629393"
      ]
     },
     "execution_count": 2112,
     "metadata": {},
     "output_type": "execute_result"
    }
   ],
   "source": [
    "total_delay_f_w"
   ]
  },
  {
   "cell_type": "markdown",
   "metadata": {},
   "source": [
    "### (e2) Introduce tolls, such that the toll on link e is $\\omega_e = f_e\\tau'_e(f_e^*)$, where $f_e^∗$ is the flow at the system optimum. Now the delay on link e is given by $τ_e(f_e)+ω_e$ . compute the new Wardrop equilibrium $f^{(ω)}$ . What do you observe?"
   ]
  },
  {
   "cell_type": "markdown",
   "metadata": {},
   "source": [
    "Computation of Wardrop Equilibrium with tolls $f^{(\\omega)}$."
   ]
  },
  {
   "cell_type": "code",
   "execution_count": 2113,
   "metadata": {},
   "outputs": [
    {
     "name": "stdout",
     "output_type": "stream",
     "text": [
      "Optimal f: [6.70985110e+03 6.70985086e+03 2.40098316e+03 2.40098314e+03\n",
      " 1.00961489e+04 4.64702364e+03 2.80354413e+03 2.27990795e+03\n",
      " 3.40793915e+03 2.35827155e-04 1.60447652e+02 4.14842005e+03\n",
      " 1.77521811e-05 2.40098314e+03 5.44912522e+03 2.36499067e+03\n",
      " 4.92761429e+03 1.84347974e+03 6.84083836e+02 3.02038887e+03\n",
      " 3.04907448e+03 6.06946335e+03 2.57570513e+03 2.47813497e-05\n",
      " 6.90169737e+03 4.97668827e+03 4.92761431e+03 4.92761431e+03]\n"
     ]
    }
   ],
   "source": [
    "f_var = cp.Variable(f.shape)\n",
    "\n",
    "omega = f_star*(C*l/((C-f_star)**2)) \n",
    "\n",
    "objective = cp.Minimize(cp.sum(-l*C @ cp.log(1-f_var/C)+cp.multiply(f_var,omega)))\n",
    "constraints = [B @ f_var == nu, f_var >= 0, f_var <= C]\n",
    "\n",
    "prob = cp.Problem(objective,constraints)\n",
    "\n",
    "result = prob.solve()\n",
    "#print(result)\n",
    "\n",
    "f_w_tolls = f_var.value\n",
    "\n",
    "print('Optimal f:',f_w_tolls)"
   ]
  },
  {
   "cell_type": "code",
   "execution_count": 2114,
   "metadata": {},
   "outputs": [],
   "source": [
    "total_delay_f_w_tolls = compute_total_delay(f_w_tolls)"
   ]
  },
  {
   "cell_type": "code",
   "execution_count": 2115,
   "metadata": {},
   "outputs": [
    {
     "data": {
      "text/plain": [
       "26271.429108843167"
      ]
     },
     "execution_count": 2115,
     "metadata": {},
     "output_type": "execute_result"
    }
   ],
   "source": [
    "total_delay_f_w_tolls"
   ]
  },
  {
   "cell_type": "code",
   "execution_count": 2116,
   "metadata": {},
   "outputs": [
    {
     "name": "stdout",
     "output_type": "stream",
     "text": [
      "PoA: 1.013465400289377\n"
     ]
    }
   ],
   "source": [
    "# Price of Anarchy\n",
    "print('PoA:',total_delay_f_w/total_delay_f_star)"
   ]
  },
  {
   "cell_type": "markdown",
   "metadata": {},
   "source": [
    "### (f) Instead of the total travel time, let the cost for the system be the total additional delay compared to the total delay in free flow, given by $\\psi_e(f_e) = f_e(τ_e(f_e)−l_e)$ subject to the flow constraints. Compute the system optimum $f^*$ for the costs above. Construct tolls $ω^∗$ such that the Wardrop equilibrium $f^{(ω^∗)}$ coincides with $f^∗$. Compute the new Wardrop equilibrium with the constructed tolls $f^{(ω^∗)}$ to verify your result."
   ]
  },
  {
   "cell_type": "markdown",
   "metadata": {},
   "source": [
    "Computation of the new Social Optimum $f^*$."
   ]
  },
  {
   "cell_type": "code",
   "execution_count": 2117,
   "metadata": {},
   "outputs": [
    {
     "name": "stdout",
     "output_type": "stream",
     "text": [
      "Optimal f: [6.65329658e+03 5.77466230e+03 3.41971657e+03 3.41971062e+03\n",
      " 1.01527034e+04 4.64278036e+03 3.10584008e+03 2.66218478e+03\n",
      " 3.00907935e+03 8.78634280e+02 7.42401749e-03 2.35493830e+03\n",
      " 5.94907576e-03 3.41971062e+03 5.50992306e+03 3.04369256e+03\n",
      " 4.88180506e+03 2.41557456e+03 4.43662730e+02 2.00804968e+03\n",
      " 3.48735309e+03 5.49540277e+03 2.20377848e+03 2.20338871e-03\n",
      " 6.30070364e+03 5.62348910e+03 4.88180726e+03 4.88180726e+03]\n"
     ]
    }
   ],
   "source": [
    "f_var = cp.Variable(f.shape)\n",
    "\n",
    "objective = cp.Minimize(cp.sum(cp.multiply(l*C,cp.inv_pos(1-f_var/C))- l*C - cp.multiply(f_var,l)))\n",
    "\n",
    "constraints = [B @ f_var == nu, f_var >= 0,f_var <= C]\n",
    "prob = cp.Problem(objective,constraints)\n",
    "\n",
    "result = prob.solve()\n",
    "#print(result)\n",
    "\n",
    "f_star_new = f_var.value\n",
    "\n",
    "print('Optimal f:',f_star_new)"
   ]
  },
  {
   "cell_type": "code",
   "execution_count": 2118,
   "metadata": {},
   "outputs": [],
   "source": [
    "total_delay_f_star_new = compute_total_delay(f_star_new,'new')"
   ]
  },
  {
   "cell_type": "code",
   "execution_count": 2119,
   "metadata": {},
   "outputs": [
    {
     "data": {
      "text/plain": [
       "1002795968.2529671"
      ]
     },
     "execution_count": 2119,
     "metadata": {},
     "output_type": "execute_result"
    }
   ],
   "source": [
    "total_delay_f_star_new"
   ]
  },
  {
   "cell_type": "markdown",
   "metadata": {},
   "source": [
    "Construct tolls $\\omega^*$."
   ]
  },
  {
   "cell_type": "code",
   "execution_count": 2120,
   "metadata": {},
   "outputs": [
    {
     "name": "stdout",
     "output_type": "stream",
     "text": [
      "Optimal w*: [-5.87275093e-16 -4.87717810e-16  3.12056271e-17  3.12390244e-17\n",
      " -8.12982074e-16 -3.03961469e-16  1.59827547e-16  3.93267366e-16\n",
      "  2.04877686e-16  3.71065951e-15  5.39301448e-10  6.06501589e-16\n",
      "  6.67533797e-10  3.12386131e-17 -4.51559991e-16  1.88402577e-16\n",
      " -3.49859506e-16  5.60153831e-16  8.56513165e-15  9.25679538e-16\n",
      "  6.52682972e-18 -4.49472639e-16  7.33228033e-16  1.74839837e-09\n",
      " -5.50717233e-16 -4.67453391e-16 -3.49860181e-16 -3.49860181e-16]\n"
     ]
    }
   ],
   "source": [
    "w_var = cp.Variable(l.shape)\n",
    "\n",
    "objective = cp.Minimize(cp.sum(-cp.multiply(l*C,cp.log(1-cp.multiply(f_star_new,cp.inv_pos(C)))) - f_star_new*l + cp.multiply(f_star_new,w_var)))\n",
    "#objective = cp.Minimize(cp.sum(cp.multiply(-l*C,cp.log(1-cp.multiply(f_star_new,cp.inv_pos(C)))) - (f_star_new**2)*l/2 + cp.multiply(f_star_new,w_var)))\n",
    "\n",
    "constraints = [w_var >= 0]\n",
    "\n",
    "prob = cp.Problem(objective,constraints)\n",
    "\n",
    "result = prob.solve()\n",
    "#print(result)\n",
    "\n",
    "w_star_opt = w_var.value\n",
    "\n",
    "print('Optimal w*:',w_star_opt)"
   ]
  },
  {
   "cell_type": "markdown",
   "metadata": {},
   "source": [
    "Compute the new Wardrop Equilibrium $f^{(\\omega)}$."
   ]
  },
  {
   "cell_type": "code",
   "execution_count": 2121,
   "metadata": {},
   "outputs": [
    {
     "name": "stdout",
     "output_type": "stream",
     "text": [
      "Optimal f with w*: [6.78171987e+03 6.00489786e+03 3.26626180e+03 3.26625112e+03\n",
      " 1.00242801e+04 4.66556319e+03 3.02889528e+03 2.64103860e+03\n",
      " 3.03881965e+03 7.76822009e+02 2.40314706e+02 2.49832135e+03\n",
      " 1.06787614e-02 3.26625112e+03 5.35871687e+03 2.88151848e+03\n",
      " 4.89068831e+03 2.41348992e+03 6.28171384e+02 2.10055098e+03\n",
      " 3.50968837e+03 5.61023936e+03 2.26259356e+03 1.49121230e-03\n",
      " 6.38646544e+03 5.52884468e+03 4.89068980e+03 4.89068980e+03]\n"
     ]
    }
   ],
   "source": [
    "f_var = cp.Variable(f.shape)\n",
    "\n",
    "#objective = cp.Minimize(cp.sum(cp.multiply(-l*C,cp.log(1-cp.multiply(f_var,cp.inv_pos(C)))) - cp.multiply(f_var,l) + cp.multiply(f_var,w_star_opt)))\n",
    "objective = cp.Minimize(cp.sum(-cp.multiply(l*C,cp.log(1-cp.multiply(f_var,cp.inv_pos(C)))) - cp.multiply(f_var,l) + cp.multiply(f_var,w_star_opt)))\n",
    "\n",
    "constraints = [B @ f_var == nu, f_var >= 0,f_var <= C]\n",
    "prob = cp.Problem(objective,constraints)\n",
    "\n",
    "result = prob.solve()\n",
    "#print(result)\n",
    "\n",
    "f_w_tolls_new = f_var.value\n",
    "\n",
    "print('Optimal f with w*:',f_w_tolls_new)"
   ]
  },
  {
   "cell_type": "code",
   "execution_count": 2122,
   "metadata": {},
   "outputs": [],
   "source": [
    "total_delay_f_w_tolls_new = compute_total_delay(f_w_tolls_new,'new')"
   ]
  },
  {
   "cell_type": "code",
   "execution_count": 2123,
   "metadata": {},
   "outputs": [
    {
     "data": {
      "text/plain": [
       "1003639627.5199927"
      ]
     },
     "execution_count": 2123,
     "metadata": {},
     "output_type": "execute_result"
    }
   ],
   "source": [
    "total_delay_f_w_tolls_new"
   ]
  },
  {
   "cell_type": "code",
   "execution_count": 2124,
   "metadata": {},
   "outputs": [
    {
     "name": "stdout",
     "output_type": "stream",
     "text": [
      "PoA:  1.0008413069993645\n"
     ]
    }
   ],
   "source": [
    "#Price of Anarchy\n",
    "print('PoA: ',total_delay_f_w_tolls_new/total_delay_f_star_new)"
   ]
  }
 ],
 "metadata": {
  "kernelspec": {
   "display_name": "Python 3.10.7 64-bit",
   "language": "python",
   "name": "python3"
  },
  "language_info": {
   "codemirror_mode": {
    "name": "ipython",
    "version": 3
   },
   "file_extension": ".py",
   "mimetype": "text/x-python",
   "name": "python",
   "nbconvert_exporter": "python",
   "pygments_lexer": "ipython3",
   "version": "3.10.7"
  },
  "orig_nbformat": 4,
  "vscode": {
   "interpreter": {
    "hash": "916dbcbb3f70747c44a77c7bcd40155683ae19c65e1c03b4aa3499c5328201f1"
   }
  }
 },
 "nbformat": 4,
 "nbformat_minor": 2
}
